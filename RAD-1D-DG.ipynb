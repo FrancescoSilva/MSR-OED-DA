{
 "cells": [
  {
   "cell_type": "markdown",
   "id": "13c2e489-1302-4bf7-bff8-e41792c3c51e",
   "metadata": {},
   "source": [
    "### INITIALIZATION"
   ]
  },
  {
   "cell_type": "code",
   "execution_count": 41,
   "id": "e8e87c01-646f-476f-9c3c-936b95bcc5da",
   "metadata": {},
   "outputs": [],
   "source": [
    "# Import external libraries:\n",
    "import numpy as np\n",
    "import skfem as sk\n",
    "import matplotlib.pyplot as plt\n",
    "import scipy.sparse as sparse\n",
    "\n",
    "# Import external functions:\n",
    "from skfem.helpers import dot, grad\n",
    "from scipy.sparse.linalg import splu\n",
    "from skfem.visuals.matplotlib import plot"
   ]
  },
  {
   "cell_type": "code",
   "execution_count": 268,
   "id": "3d6b1d40-f34d-4c6c-b41d-6de57d93c4f0",
   "metadata": {},
   "outputs": [],
   "source": [
    "# Define problem size:\n",
    "H = 200 # [cm] core length\n",
    "L = 120 # [cm] heat-exchanger length\n",
    "\n",
    "# Define region identifier:\n",
    "reg_H = lambda x: (x>=0) * (x<H)    # Core region identifier\n",
    "reg_L = lambda x: (x>=H) * (x<H+L)  # Heat-exchanger identifier\n",
    "\n",
    "# Define problem parameters for the whole domain, for the H region and for the L region:\n",
    "a_T_temp, a_H_temp, a_L_temp =  0.000, -0.100,  0.100  # Reaction parameters   [1/s]\n",
    "b_T_temp, b_H_temp, b_L_temp =  0.001,  0.000,  0.000  # Diffusion parameters  [cm^2/s]\n",
    "c_T_temp, c_H_temp, c_L_temp =  1.000,  0.000,  0.000  # Advection parameters  [cm/s]\n",
    "\n",
    "# Define time discretization\n",
    "dt = 0.0025         # Time step width [s]\n",
    "time_steps = 40000  # Number of time steps [-]\n",
    "theta = 0.50        # Define integration scheme: 0.0 -> implicit, 0.5 -> Crank-Nicolson, 1.0 -> explicit\n",
    "\n",
    "# Define mesh discretization\n",
    "poly_order = 1                                         # Discontinuous Galerkin polinomial order\n",
    "mesh_steps = 160                                       # Number of spatial mesh intervals [-]\n",
    "mesh_width = (H+L)/mesh_steps                          # Mesh element width [cm]\n",
    "mash_nodes = np.linspace(0, H+L+mesh_width, mesh_steps+2)\n",
    "\n",
    "# Define stabilization prameters:\n",
    "alpha = 1e-3        # Define stabilization parameter for the discontinuous Galerkin scheme:\n",
    "stab = alpha * poly_order * poly_order / mesh_width"
   ]
  },
  {
   "cell_type": "markdown",
   "id": "6c02f8dc-1b60-47da-9a37-9b1b928c7b12",
   "metadata": {},
   "source": [
    "### DISCONTINUOUS GALERKIN"
   ]
  },
  {
   "cell_type": "markdown",
   "id": "1239f0d8-962f-495f-904c-a7ed6460a23c",
   "metadata": {},
   "source": [
    "#### Define problem bilinear forms"
   ]
  },
  {
   "cell_type": "code",
   "execution_count": 272,
   "id": "fb8ebe98-5271-476c-b8b2-a1aac44f81fa",
   "metadata": {},
   "outputs": [],
   "source": [
    "# Define global mass bilinear form:\n",
    "@sk.BilinearForm \n",
    "def mass_dgi_T(u, v, _): return u * v\n",
    "\n",
    "# Define mass bilinear form on the core region:\n",
    "@sk.BilinearForm\n",
    "def mass_dgi_H(u, v, w): return reg_H(w.x[0]) * u * v\n",
    "\n",
    "# Define mass bilinear form on the heat-exchanger region:\n",
    "@sk.BilinearForm\n",
    "def mass_dgi_L(u, v, w): return reg_L(w.x[0]) * u * v\n",
    "\n",
    "# Define advection bilinear form for discontinuous Galerkin:\n",
    "@sk.BilinearForm\n",
    "def advection_dgi_T(u, v, _): return - u * grad(v)[0]\n",
    "\n",
    "# Define discontinuous Galerkin boundary term for the advection bilinear form (advection is always upwind):\n",
    "@sk.BilinearForm\n",
    "def advection_dgf_T(u1, u2, v1, v2, w): return (v1-v2)*(u2)*w.n[0]\n",
    "\n",
    "# Define global diffusion bilinear form:\n",
    "@sk.BilinearForm\n",
    "def diffusion_dgi_T(u, v, _): return dot(grad(u), grad(v))\n",
    "\n",
    "# Define discontinuous Galerkin boundary term for the diffusion bilinear form:\n",
    "@sk.BilinearForm\n",
    "def diffusion_dgf_T(u1, u2, v1, v2, w): return - (v1-v2)*(grad(u1)[0]+grad(u2)[0])*w.n[0]/2 \\\n",
    "                                               - (u1-u2)*(grad(v1)[0]+grad(v2)[0])*w.n[0]/2 + (v1-v2)*(u1-u2)*stab"
   ]
  },
  {
   "cell_type": "markdown",
   "id": "f41b3cd2-6a0d-42f4-9c9a-26ce704deb95",
   "metadata": {},
   "source": [
    "#### Define mathod to convert matrices defined on a simple domain to a periodic domain"
   ]
  },
  {
   "cell_type": "code",
   "execution_count": 275,
   "id": "181e7e5d-36bd-4685-a502-8a8ca6cb2ebd",
   "metadata": {},
   "outputs": [],
   "source": [
    " # Convert facet discontinuous Galerkin matrix to periodic form:\n",
    "def periodic_matrix_dg_f(matrix):\n",
    "    matrix = sparse.lil_matrix(matrix)\n",
    "    matrix[:2, :] += matrix[-2:, :]\n",
    "    matrix[:, :2] += matrix[:, -2:]\n",
    "    return sparse.csc_matrix(matrix[:, :-2][:-2, :])\n",
    "\n",
    "# Convert interior dicontinuous Galerkin matrix to periodic form:\n",
    "def periodic_matrix_dg_i(matrix):\n",
    "    return sparse.csc_matrix(matrix[:, :-2][:-2, :])"
   ]
  },
  {
   "cell_type": "markdown",
   "id": "a540b09d-c6fd-43ad-9d78-f4ece9ebd5c5",
   "metadata": {},
   "source": [
    "#### Assemble all the matrices and the vectors needed for the solution of a RAD problem:"
   ]
  },
  {
   "cell_type": "code",
   "execution_count": 278,
   "id": "8a033db8-6bda-4006-877a-94d09d313878",
   "metadata": {},
   "outputs": [],
   "source": [
    "# Define discontinuous Galerkin interior and facet basis:\n",
    "line_mesh_periodic_dg = sk.MeshLine(mash_nodes)\n",
    "line_element_dg = sk.element.ElementDG(sk.element.ElementLineP1())\n",
    "line_basis_dg_i = sk.Basis(line_mesh_periodic_dg, line_element_dg)\n",
    "line_basis_dg_f = sk.InteriorFacetBasis(line_mesh_periodic_dg, line_element_dg, side=0) @ sk.InteriorFacetBasis(line_mesh_periodic_dg, line_element_dg, side=1)\n",
    "\n",
    "# Assemble reaction term matrices for discontinuous Galerkin problem:\n",
    "MM_T_1D_dg_i = periodic_matrix_dg_i(mass_dgi_T.assemble(line_basis_dg_i))\n",
    "MM_H_1D_dg_i = periodic_matrix_dg_i(mass_dgi_H.assemble(line_basis_dg_i))\n",
    "MM_L_1D_dg_i = periodic_matrix_dg_i(mass_dgi_L.assemble(line_basis_dg_i))\n",
    "\n",
    "# Define advection and diffusion matrices for discontinuous Galerkin problem:\n",
    "KK_T_1D_dg_f = periodic_matrix_dg_f(diffusion_dgf_T.assemble(line_basis_dg_f))\n",
    "CC_T_1D_dg_f = periodic_matrix_dg_f(advection_dgf_T.assemble(line_basis_dg_f))\n",
    "KK_T_1D_dg_i = periodic_matrix_dg_i(diffusion_dgi_T.assemble(line_basis_dg_i))\n",
    "CC_T_1D_dg_i = periodic_matrix_dg_i(advection_dgi_T.assemble(line_basis_dg_i))\n",
    "\n",
    "# Define initial conditions:\n",
    "x_dg = np.concatenate([mash_nodes[ii:ii+2] for ii in range(mesh_steps)])\n",
    "y_dg = [(x_dg[ii]<35)*(x_dg[ii]>=0)*(x_dg[ii]/35) + (x_dg[ii]<70)*(x_dg[ii]>=35)*(1-(x_dg[ii]-35)/35) for ii in range(len(x_dg))]\n",
    "z_dg = sk.solve(0.001 * MM_T_1D_dg_i + KK_T_1D_dg_i + KK_T_1D_dg_f, MM_T_1D_dg_i.dot(y_dg))\n",
    "\n",
    "# Define left and right hand side of the discontinuous Galerkin problem:\n",
    "SS_all_dg = a_H_temp * MM_H_1D_dg_i + a_L_temp * MM_L_1D_dg_i + b_T_temp * (KK_T_1D_dg_i + KK_T_1D_dg_f) + c_T_temp * (CC_T_1D_dg_i + CC_T_1D_dg_f)\n",
    "AA_all_dg = MM_T_1D_dg_i +      theta  * SS_all_dg * dt\n",
    "BB_all_dg = MM_T_1D_dg_i - (1 - theta) * SS_all_dg * dt"
   ]
  },
  {
   "cell_type": "markdown",
   "id": "a9f92dee-e848-468d-a4ab-c55b309570a2",
   "metadata": {},
   "source": [
    "#### Solve problem in time"
   ]
  },
  {
   "cell_type": "code",
   "execution_count": 281,
   "id": "cbd1edb0-4bb6-4cbd-bc78-f96096638098",
   "metadata": {},
   "outputs": [
    {
     "data": {
      "image/png": "[encoded data removed]",
      "text/plain": [
       "<Figure size 640x480 with 1 Axes>"
      ]
     },
     "metadata": {},
     "output_type": "display_data"
    }
   ],
   "source": [
    "# Initialise solution nd-array:\n",
    "solution_dg = np.ones((AA_all_dg.shape[0], time_steps+1))\n",
    "solution_dg[:, 0] = z_dg\n",
    "\n",
    "# Iteratively solve problem:\n",
    "backsolve_dg = splu(AA_all_dg).solve\n",
    "for ii in range(time_steps):\n",
    "    solution_dg[:, ii+1] = backsolve_dg(BB_all_dg @ solution_dg[:, ii])\n",
    "\n",
    "# Plot the solution at the initial and at the finial time:\n",
    "plt.plot([ii//2 for ii in range(1, 2*mesh_steps+1)], solution_dg[:,  0] / max(solution_dg[:,  0]))\n",
    "plt.plot([ii//2 for ii in range(1, 2*mesh_steps+1)], solution_dg[:, -1] / max(solution_dg[:, -1]))\n",
    "plt.show()"
   ]
  }
 ],
 "metadata": {
  "kernelspec": {
   "display_name": "Python [conda env:base] *",
   "language": "python",
   "name": "conda-base-py"
  },
  "language_info": {
   "codemirror_mode": {
    "name": "ipython",
    "version": 3
   },
   "file_extension": ".py",
   "mimetype": "text/x-python",
   "name": "python",
   "nbconvert_exporter": "python",
   "pygments_lexer": "ipython3",
   "version": "3.11.5"
  }
 },
 "nbformat": 4,
 "nbformat_minor": 5
}
