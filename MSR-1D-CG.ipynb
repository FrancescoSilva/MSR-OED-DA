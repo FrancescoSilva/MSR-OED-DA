{
 "cells": [
  {
   "cell_type": "markdown",
   "id": "fafd97b0-6afb-48cd-a2e0-e1c7c0475645",
   "metadata": {},
   "source": [
    "### INITIALIZATION"
   ]
  },
  {
   "cell_type": "code",
   "execution_count": 1,
   "id": "f6474ca5-3fc4-445f-888f-bfbe52f2df02",
   "metadata": {},
   "outputs": [],
   "source": [
    "# Import external libraries:\n",
    "import numpy as np\n",
    "import skfem as sk\n",
    "import scipy.sparse as sparse\n",
    "import matplotlib.pyplot as plt\n",
    "\n",
    "# Import external functions:\n",
    "from skfem.helpers import dot, grad\n",
    "from scipy.sparse.linalg import splu\n",
    "from skfem.visuals.matplotlib import plot"
   ]
  },
  {
   "cell_type": "markdown",
   "id": "ebdb4cf2-0222-4bab-9adf-9058e2863efe",
   "metadata": {},
   "source": [
    "### PROBLEM PARAMETERS"
   ]
  },
  {
   "cell_type": "code",
   "execution_count": 3,
   "id": "89106536-e0d1-44da-a626-dfbcbf994575",
   "metadata": {},
   "outputs": [],
   "source": [
    "# Define problem size:\n",
    "length_T  = 350.0  # [cm]  Total loop length\n",
    "length_Hi = 000.0  # [cm]  Core intial point coordinate\n",
    "length_Hf = 200.0  # [cm]  Core final point coordinate\n",
    "length_Li = 200.0  # [cm]  Heat-exchanger initial point coordinate\n",
    "length_Lf = 350.0  # [cm]  Heat-exchanger final point coordinate\n",
    "\n",
    "# Define region identifier:\n",
    "reg_H = lambda x: (x<length_Hf) * (x>=length_Hi)     # Core region identifier\n",
    "reg_L = lambda x: (x<length_Lf) * (x>=length_Li)     # Heat-exchanger region identifier\n",
    "\n",
    "# Define mesh discretization\n",
    "mesh_width = 1.0                                     # [cm]  Mesh element width \n",
    "mesh_steps = int(length_T/mesh_width)                # [-]   Number of mesh intervals\n",
    "mash_nodes = np.linspace(0, length_T, mesh_steps+1)  # [cm]  Coordinates of the mesh nodes\n",
    "polynomial_order = 1                                 #       Polinomial order for Galerkin discretization:\n",
    "\n",
    "# Define continuous Galerkin discretization:\n",
    "if polynomial_order==1 : line_element = sk.element.ElementLineP1()\n",
    "if polynomial_order==2 : line_element = sk.element.ElementLineP2()\n",
    "line_basis = sk.Basis(sk.MeshLine(mash_nodes), line_element)\n",
    "ndof = line_basis.N - 1\n",
    "\n",
    "# Define time discretization:\n",
    "time_width = 0.1                          # [s]  Time step width\n",
    "time_horiz = 100                          # [s]  Time horizon \n",
    "time_steps = int(time_horiz/time_width)   # [-]  Number of time steps\n",
    "theta = 0.50                              #      Integration scheme (1.0: implicit, 0.5: Crank-Nicolson, 0.0: explicit)\n",
    "supg = True                               #      Use supg stabilization or no:"
   ]
  },
  {
   "cell_type": "code",
   "execution_count": 5,
   "id": "ff2fc9e4-07e8-46e7-9008-659bc46064df",
   "metadata": {},
   "outputs": [],
   "source": [
    "# Neutron and precurson equation parameters (except cross sections and thermal coupling therms):\n",
    "vv = 2.2000e+5   # [cm s^-1]            Speed mono-energetic neutrons\n",
    "bb = 5.4700e-3   # [1]                  Delayed neutron fraction                     \n",
    "nu = 2.4355e+0   # [1]                  Neutron fission yeld                                 \n",
    "ll = 8.0000e-2   # [s^-1]               Decay constant of delayed neutron precursors\n",
    "uu = 1.0000e+2   # [cm s^-1]            Velocity of the fuel inside the reactor\n",
    "\n",
    "# Energy equation parameters (except cross section and thermal coupling terms:\n",
    "cp = 1.9670e-0   # [J g^-1 K^-1]        Specific heat capacity of the fuel\n",
    "ro = 2.2580e-0   # [g cm^-3]            Density of the fuel at reference temperature ignoring termal variations\n",
    "kk = 1.4350e-2   # [J cm^−1 K^−1 s^-1]  Heat conductivity of the fuel  \n",
    "ed = 1.4219e-12  # [J]                  Energy released per prursor decay\n",
    "ef = 3.0217e-11  # [J]                  Energy released per fission event\n",
    "hh = 5.0000e-1   # [J cm^-2 K^-1 s^-1]  Heat exchanger coefficient on the heat exchanger\n",
    "wp = 4.4108e+2   # [cm]                 Heat exchanger wetted perimeter (2 * pi * 70.2 cm)\n",
    "\n",
    "# Reference macroscopic cross sections and neutron diffusivity:\n",
    "sf = 1.8189e-3   # [cm^-1]              Macroscopic fission cross section at reference temperature \n",
    "sa = 3.7600e-3   # [cm^-1]              Macroscopic absorption cross section at reference temperature \n",
    "dd = 1.2100e+0   # [cm]                 Neutron diffusion coefficient at reference temperature \n",
    "\n",
    "# Termal coupling parameters:\n",
    "aa = 2.1200e-4   # [K^-1]               Thermal expansion coefficient \n",
    "T0 = 9.2200e+2   # [K]                  Reference temperature \n",
    "Th = 8.2000e+2   # [K]                  Temperature of the reservoir\n",
    "\n",
    "# Define diffusion and reaction coefficients for the neutron equation:\n",
    "mm_FF_H = - vv * (1 - bb) * nu * sf    # Neutron fission coefficient on the core region only\n",
    "mm_FF_T =   vv * sa                    # Neutron absorpiton coefficient on the whole domain\n",
    "kk_FF_T =   vv * dd                    # Neutron diffusion coefficient on the whole domain\n",
    "mm_FC_T = - vv * ll                    # Precursor decay coefficient on the whole domain (coupling F and C)\n",
    "\n",
    "# Define diffusion, advection and reaction coefficients for the neutron equation:\n",
    "mm_CF_H = - bb * nu * sf               # Neutron fission source term localised on the core region (coupling C and F)\n",
    "mm_CC_T =   ll                         # Precursor decay coefficient\n",
    "aa_CC_T =   uu                         # Precursor advection velocity\n",
    "kk_CC_T =   1e-6                       # Artificial stabilising diffusivity\n",
    "\n",
    "# Define diffusion, advection and reaction coefficients for the energy equation:\n",
    "aa_TT_T =   uu                         # Thermal advection velocity\n",
    "kk_TT_T =   kk / (ro * cp)             # Thermal diffusion coefficient  (thermal diffusivity)\n",
    "mm_TT_L =   hh / (ro * cp * wp)        # Thermal removal power coefficient in the heat-exchanger region\n",
    "mm_TF_H =   ef * sf / (ro * cp)        # Thermal reaction energy from fuel fission (coupling T and F)\n",
    "mm_TC_T =   ed * ll / (ro * cp)        # Thermal decay energy from the precursor (coupling T and C)"
   ]
  },
  {
   "cell_type": "markdown",
   "id": "3369c6b1-f59d-42b6-bd43-cc14f0f84e79",
   "metadata": {},
   "source": [
    "### PROBLEM FORMS DEFINITION"
   ]
  },
  {
   "cell_type": "code",
   "execution_count": 7,
   "id": "bbcbd7dd-223c-4a40-9fd9-976ce51a9491",
   "metadata": {},
   "outputs": [],
   "source": [
    "# Define periodic coordinates and ordered coordinates:\n",
    "list_col = np.array(list(range(mesh_steps)) + list(range(mesh_steps+1, polynomial_order*mesh_steps+1)))\n",
    "list_ord = np.hstack([[ii + jj*mesh_steps for jj in range(polynomial_order)] for ii in range(mesh_steps)])\n",
    "\n",
    "# Convert periodic vector into standard domain:\n",
    "def get_standard_vector(vector): \n",
    "    return np.hstack((vector[:mesh_steps], vector[0], vector[mesh_steps:]))\n",
    "\n",
    "# Convert standard vector into periodic domain:\n",
    "def get_periodic_vector(vector): \n",
    "    return vector[list_col]\n",
    "\n",
    "# Convert continuous Galerkin matrix to periodic form:\n",
    "def get_periodic_matrix(matrix):\n",
    "    matrix = sparse.lil_matrix(matrix)\n",
    "    matrix[:, 0] += matrix[:, mesh_steps]\n",
    "    matrix[0, :] += matrix[mesh_steps, :]\n",
    "    return sparse.csc_matrix(matrix[list_col, :][:, list_col])"
   ]
  },
  {
   "cell_type": "code",
   "execution_count": 9,
   "id": "f8b651b3-8e19-49f5-b8ee-0679c0b18467",
   "metadata": {},
   "outputs": [],
   "source": [
    "# Define zero matrix:\n",
    "ZZ_T = sparse.csc_matrix((ndof, ndof))\n",
    "\n",
    "# Define mass bilinear form on the core region:\n",
    "@sk.BilinearForm\n",
    "def get_mm_H(u, v, w): return reg_H(w.x[0]) * u * (v + supg * mesh_width * grad(v)[0] / 2)\n",
    "MM_H = get_periodic_matrix(get_mm_H.assemble(line_basis))\n",
    "\n",
    "# Define mass bilinear form on the heat-exchanger region:\n",
    "@sk.BilinearForm\n",
    "def get_mm_L(u, v, w): return reg_L(w.x[0]) * u * (v + supg * mesh_width * grad(v)[0] / 2)\n",
    "MM_L = get_periodic_matrix(get_mm_L.assemble(line_basis))\n",
    "\n",
    "# Define mass bilinear form on the full domain:\n",
    "@sk.BilinearForm \n",
    "def get_mm_T(u, v, _): return u * (v + supg * mesh_width * grad(v)[0] / 2)\n",
    "MM_T = get_periodic_matrix(get_mm_T.assemble(line_basis))\n",
    "\n",
    "# Define global advection bilinear form for continuous Galerkin:\n",
    "@sk.BilinearForm\n",
    "def get_aa_T(u, v, _): return grad(u)[0] * (v + supg * mesh_width * grad(v)[0] / 2)\n",
    "AA_T = get_periodic_matrix(get_aa_T.assemble(line_basis))\n",
    "\n",
    "# Define global diffusion bilinear form for continuous Galerkin:\n",
    "@sk.BilinearForm\n",
    "def get_kk_T(u, v, _): return dot(grad(u), grad(v))\n",
    "KK_T = get_periodic_matrix(get_kk_T.assemble(line_basis))\n",
    "\n",
    "# Define linear functional on the heat-exchanger region:\n",
    "@sk.LinearForm\n",
    "def get_vm_L(v,w): return reg_L(w.x[0]) * (v + supg * mesh_width * grad(v)[0] / 2)\n",
    "vm_TT_L = get_periodic_vector(get_vm_L.assemble(line_basis))"
   ]
  },
  {
   "cell_type": "code",
   "execution_count": 29,
   "id": "aa13fc8d-acc7-46fd-93a7-a0fa206de009",
   "metadata": {},
   "outputs": [],
   "source": [
    "# Define reference temperature field\n",
    "T0_periodic = T0 * np.ones((ndof))\n",
    "ref_T  = line_basis.interpolate(get_standard_vector(T0_periodic))\n",
    "\n",
    "# Define non-linear interaction term for the reaction term:\n",
    "def get_mm_FT_T(periodic_T, basis=line_basis):\n",
    "    cur_T = basis.interpolate(get_standard_vector(periodic_T))\n",
    "    @sk.BilinearForm\n",
    "    def mm_FT_T_assembler(u, v, _): return np.sqrt(ref_T/cur_T) * np.exp(-aa*(cur_T-ref_T)) * u * (v + supg * mesh_width * grad(v)[0] / 2)\n",
    "    return  get_periodic_matrix(mm_FT_T_assembler.assemble(basis))\n",
    "    \n",
    "# Define non-linear interaction term for the reaction term:\n",
    "def get_mm_FT_H(periodic_T, basis=line_basis):\n",
    "    cur_T = basis.interpolate(get_standard_vector(periodic_T))\n",
    "    @sk.BilinearForm\n",
    "    def mm_FT_H_assembler(u, v, w): return reg_H(w.x[0]) * np.sqrt(ref_T/cur_T) * np.exp(-aa*(cur_T-ref_T)) * u * (v + supg * mesh_width * grad(v)[0] / 2)\n",
    "    return  get_periodic_matrix(mm_FT_H_assembler.assemble(basis))\n",
    "\n",
    "# Define non-linear interaction term for the reaction term:\n",
    "def get_kk_FT_T(periodic_T, basis=line_basis):\n",
    "    cur_T = basis.interpolate(get_standard_vector(periodic_T))\n",
    "    @sk.BilinearForm\n",
    "    def kk_FT_T_assembler(u, v, _): return np.sqrt(ref_T/cur_T) * np.exp(aa*(cur_T-ref_T)) * dot(grad(u), grad(v))\n",
    "    return  get_periodic_matrix(kk_FT_T_assembler.assemble(basis))"
   ]
  },
  {
   "cell_type": "markdown",
   "id": "ccd15be3-23e0-499e-be05-1be79ca23717",
   "metadata": {},
   "source": [
    "### COUPLED PROBLEM STEADY STATE"
   ]
  },
  {
   "cell_type": "code",
   "execution_count": null,
   "id": "3d1f8c86-0235-44a6-b9ca-407e11d6f374",
   "metadata": {},
   "outputs": [],
   "source": []
  },
  {
   "cell_type": "code",
   "execution_count": null,
   "id": "4e071d87-8f85-4fed-a031-14fce2b9417e",
   "metadata": {},
   "outputs": [],
   "source": []
  },
  {
   "cell_type": "code",
   "execution_count": null,
   "id": "4b852ef4-ed85-4be6-8c83-85ef6f069983",
   "metadata": {},
   "outputs": [],
   "source": []
  },
  {
   "cell_type": "code",
   "execution_count": null,
   "id": "9f286048-7256-42df-81c7-0e39502e8da1",
   "metadata": {},
   "outputs": [],
   "source": []
  },
  {
   "cell_type": "code",
   "execution_count": null,
   "id": "db5283a3-c1cb-423a-96d9-f939a847be2e",
   "metadata": {},
   "outputs": [],
   "source": []
  },
  {
   "cell_type": "markdown",
   "id": "dc14ebb0-3108-48b3-8dae-4aef3efd284d",
   "metadata": {},
   "source": [
    "### NEUTRONIC PROBLEM TIME EVOLUTION"
   ]
  },
  {
   "cell_type": "code",
   "execution_count": 1008,
   "id": "72aab1af-7923-49ab-9821-c4f5644a3160",
   "metadata": {},
   "outputs": [],
   "source": [
    "# Define non-linear interaction term for the reaction term:\n",
    "def get_vm_FT_T(periodic_F, periodic_T):\n",
    "    cur_F = line_basis.interpolate(get_standard_vector(periodic_F))\n",
    "    cur_T = line_basis.interpolate(get_standard_vector(periodic_T))\n",
    "    @sk.LinearForm\n",
    "    def vm_FT_T_assembler(v, _): return (1 - np.sqrt(ref_T/cur_T) * np.exp(-aa*(cur_T-ref_T))) * cur_F * (v + supg * mesh_width * grad(v)[0] / 2)\n",
    "    return  get_periodic_vector(vm_FT_T_assembler.assemble(line_basis))\n",
    "    \n",
    "# Define non-linear interaction term for the reaction term:\n",
    "def get_vm_FT_H(periodic_F, periodic_T):\n",
    "    cur_F  = line_basis.interpolate(get_standard_vector(periodic_F))\n",
    "    cur_T  = line_basis.interpolate(get_standard_vector(periodic_T))\n",
    "    @sk.LinearForm\n",
    "    def vm_FT_H_assembler(v, w): return reg_H(w.x[0]) * (1 - np.sqrt(ref_T/cur_T) * np.exp(-aa*(cur_T-ref_T))) * cur_F * (v + supg * mesh_width * grad(v)[0] / 2)\n",
    "    return  get_periodic_vector(vm_FT_H_assembler.assemble(line_basis))\n",
    "\n",
    "# Define non-linear interaction term for the reaction term:\n",
    "def get_vk_FT_T(periodic_F, periodic_T):\n",
    "    cur_F = line_basis.interpolate(get_standard_vector(periodic_F))\n",
    "    cur_T = line_basis.interpolate(get_standard_vector(periodic_T))\n",
    "    @sk.LinearForm\n",
    "    def vk_FT_T_assembler(v, _): return (1 - np.sqrt(ref_T/cur_T) * np.exp(aa*(cur_T-ref_T))) * dot(grad(cur_F), grad(v))\n",
    "    return  get_periodic_vector(vk_FT_T_assembler.assemble(line_basis))"
   ]
  },
  {
   "cell_type": "code",
   "execution_count": 1010,
   "id": "4cca2a35-8081-4ecf-a9dd-7a110ac3f09a",
   "metadata": {},
   "outputs": [],
   "source": [
    "# Define mathod to compute the forcing term coupling the energy equation to the neutron and precursor transport problem:\n",
    "FF_FC = lambda x: np.hstack((mm_FF_H * get_vm_FT_H(x[0*ndof:1*ndof], x[2*ndof:3*ndof])\n",
    "                           + mm_FF_T * get_vm_FT_T(x[0*ndof:1*ndof], x[2*ndof:3*ndof]) \n",
    "                           + kk_FF_T * get_vk_FT_T(x[0*ndof:1*ndof], x[2*ndof:3*ndof]),\n",
    "                             mm_CF_H * get_vm_FT_H(x[0*ndof:1*ndof], x[2*ndof:3*ndof])))\n",
    "\n",
    "# Define matrices for the neutron and precursor transport problem:\n",
    "MM_FC = sparse.csc_matrix(sparse.bmat([[MM_T, ZZ_T], [ZZ_T, MM_T]]))\n",
    "SS_FC = sparse.csc_matrix(sparse.bmat([[mm_FF_H*MM_H + mm_FF_T*MM_T + kk_FF_T*KK_T,  mm_FC_T*MM_T], \n",
    "                                       [mm_CF_H*MM_H,  mm_CC_T*MM_T + aa_CC_T*KK_T + kk_CC_T*KK_T]]))\n",
    "\n",
    "# Define left and right hand side matrices of the neutron flux and the precursor problem:\n",
    "AA_FC = MM_FC +      theta  * SS_FC * time_width\n",
    "BB_FC = MM_FC - (1 - theta) * SS_FC * time_width\n",
    "\n",
    "# Define left and right hand side operators:\n",
    "LHS_FC = sparse.linalg.splu(AA_FC).solve\n",
    "RHS_FC = lambda x: BB_FC.dot(x[:2*ndof]) + FF_FC(x) * time_width"
   ]
  },
  {
   "cell_type": "code",
   "execution_count": 1012,
   "id": "88b3fc84-faa2-4ff6-9397-1d3df496a88a",
   "metadata": {},
   "outputs": [],
   "source": [
    "solution_FCT = T0 * np.ones((3*ndof, time_steps+1))\n",
    "solution_FCT[:2*ndof, :] = 1e-3\n",
    "for ii in range(1, time_steps+1):\n",
    "    solution_FCT[:2*ndof, ii] = LHS_FC(RHS_FC(solution_FCT[:, ii-1]))"
   ]
  },
  {
   "cell_type": "code",
   "execution_count": 1013,
   "id": "ffeabd1d-3ab5-4f26-b101-6ae1f8ab51e2",
   "metadata": {},
   "outputs": [
    {
     "data": {
      "image/png": "[encoded data removed]",
      "text/plain": [
       "<Figure size 640x480 with 1 Axes>"
      ]
     },
     "metadata": {},
     "output_type": "display_data"
    }
   ],
   "source": [
    "tt = 100\n",
    "plt.plot(solution_FCT[0*ndof:1*ndof, tt] / max(solution_FCT[0*ndof:1*ndof, tt]), label='$\\phi$')\n",
    "plt.plot(solution_FCT[1*ndof:2*ndof, tt] / max(solution_FCT[1*ndof:2*ndof, tt]), label='$c$')\n",
    "plt.show()"
   ]
  },
  {
   "cell_type": "markdown",
   "id": "e6cb268c-430b-4b59-af47-324036473d20",
   "metadata": {},
   "source": [
    "### TEMPERATURE PROBLEM TIME EVOLUTION"
   ]
  },
  {
   "cell_type": "code",
   "execution_count": 1038,
   "id": "1c37320e-8463-4ceb-a6f3-e5e3bc8172e3",
   "metadata": {},
   "outputs": [],
   "source": [
    "# Define  method to compute the forcing term for the energy equation including updated flux and precursor coupling:\n",
    "FF_TT = lambda x: mm_TT_L * vm_TT_L * Th \\\n",
    "                + mm_TC_T * MM_T.dot(x[1*ndof:2*ndof]) \\\n",
    "                + mm_TF_H * MM_H.dot(x[0*ndof:1*ndof]) \\\n",
    "                - mm_TF_H * get_vm_FT_H(x[0*ndof:1*ndof], x[2*ndof:3*ndof]) \n",
    "\n",
    "# Define matrices for the energy problem:\n",
    "MM_TT = MM_T\n",
    "SS_TT = kk_TT_T * KK_T + mm_TT_L * MM_L + aa_TT_T * AA_T\n",
    "\n",
    "# Define left and right hand side matrices of the energy problem:\n",
    "AA_TT = MM_TT +      theta  * SS_TT * time_width\n",
    "BB_TT = MM_TT - (1 - theta) * SS_TT * time_width\n",
    "\n",
    "# Define left and right hand side operators:\n",
    "LHS_TT = sparse.linalg.splu(AA_TT).solve\n",
    "RHS_TT = lambda x: BB_TT.dot(x[2*ndof:]) + FF_TT(x) * time_width"
   ]
  },
  {
   "cell_type": "code",
   "execution_count": 1061,
   "id": "1bf3c1ee-7111-488d-83a6-83cb6f32d07e",
   "metadata": {
    "scrolled": true
   },
   "outputs": [],
   "source": [
    "solution_FCT = np.zeros((3*ndof, time_steps+1))\n",
    "solution_FCT[2*ndof:3*ndof, :] = T0\n",
    "\n",
    "for ii in range(1, time_steps+1):\n",
    "    \n",
    "    solution_FCT[2*ndof:3*ndof, ii] = LHS_TT(RHS_TT(solution_FCT[:, ii-1])) "
   ]
  },
  {
   "cell_type": "code",
   "execution_count": 1063,
   "id": "e18c9a4b-8fbe-4560-a10f-ab0073d6e5dd",
   "metadata": {},
   "outputs": [
    {
     "data": {
      "image/png": "[encoded data removed]",
      "text/plain": [
       "<Figure size 640x480 with 1 Axes>"
      ]
     },
     "metadata": {},
     "output_type": "display_data"
    }
   ],
   "source": [
    "tt = -1\n",
    "plt.plot(solution_FCT[2*ndof:3*ndof, tt] / max(solution_FCT[2*ndof:3*ndof, tt]))\n",
    "plt.show()"
   ]
  },
  {
   "cell_type": "markdown",
   "id": "0089de36-bbb6-42c4-9f8e-0f37ba5c6403",
   "metadata": {},
   "source": [
    "### COUPLED PROBLEM TIME EVOLUTION"
   ]
  },
  {
   "cell_type": "code",
   "execution_count": null,
   "id": "0630466f-a19c-42e9-a4b1-64b1bcc062a0",
   "metadata": {},
   "outputs": [],
   "source": []
  }
 ],
 "metadata": {
  "kernelspec": {
   "display_name": "Python [conda env:base] *",
   "language": "python",
   "name": "conda-base-py"
  },
  "language_info": {
   "codemirror_mode": {
    "name": "ipython",
    "version": 3
   },
   "file_extension": ".py",
   "mimetype": "text/x-python",
   "name": "python",
   "nbconvert_exporter": "python",
   "pygments_lexer": "ipython3",
   "version": "3.11.5"
  }
 },
 "nbformat": 4,
 "nbformat_minor": 5
}
