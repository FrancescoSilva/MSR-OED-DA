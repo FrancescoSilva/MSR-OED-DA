{
 "cells": [
  {
   "cell_type": "markdown",
   "id": "fafd97b0-6afb-48cd-a2e0-e1c7c0475645",
   "metadata": {},
   "source": [
    "### INITIALIZATION"
   ]
  },
  {
   "cell_type": "code",
   "execution_count": 37,
   "id": "f6474ca5-3fc4-445f-888f-bfbe52f2df02",
   "metadata": {},
   "outputs": [],
   "source": [
    "# Import external libraries:\n",
    "import numpy as np\n",
    "import skfem as sk\n",
    "import scipy.sparse as sparse\n",
    "import matplotlib.pyplot as plt\n",
    "\n",
    "# Import external functions:\n",
    "from skfem.helpers import dot, grad\n",
    "from scipy.sparse.linalg import splu\n",
    "from skfem.visuals.matplotlib import plot"
   ]
  },
  {
   "cell_type": "code",
   "execution_count": 39,
   "id": "89106536-e0d1-44da-a626-dfbcbf994575",
   "metadata": {},
   "outputs": [],
   "source": [
    "# Define problem size:\n",
    "length_0 = 000.0                # [cm] start loop point\n",
    "length_H = 200.0                # [cm] core length\n",
    "length_L = 150.0                # [cm] heat-exchanger length\n",
    "length_T = length_H + length_L  # [cm] end loop point\n",
    "\n",
    "# Define region identifier:\n",
    "reg_H = lambda x: (x>=length_0) * (x<length_H)  # Core region identifier\n",
    "reg_L = lambda x: (x>=length_H) * (x<length_T)  # Heat-exchanger identifier\n",
    "\n",
    "# Define mesh discretization\n",
    "mesh_width = 2.0                                            # Mesh element width [cm]\n",
    "mesh_steps = int(length_T/mesh_width)                       # Number of mesh intervals\n",
    "mash_nodes = np.linspace(length_0, length_T, mesh_steps+1)  # List of mesh nodes coordinates [cm]\n",
    "\n",
    "# Define polinomial order for Galerkin discretization:\n",
    "polynomial_order = 2\n",
    "\n",
    "# Define continuous Galerkin discretization:\n",
    "if polynomial_order==1 : line_element = sk.element.ElementLineP1()\n",
    "if polynomial_order==2 : line_element = sk.element.ElementLineP2()\n",
    "line_basis = sk.Basis(sk.MeshLine(mash_nodes), line_element)"
   ]
  },
  {
   "cell_type": "code",
   "execution_count": 57,
   "id": "bbcbd7dd-223c-4a40-9fd9-976ce51a9491",
   "metadata": {},
   "outputs": [],
   "source": [
    "# Define list of columns to keep in periodic domain configuration and reordering:\n",
    "list_col = np.array(list(range(mesh_steps)) + list(range(mesh_steps+1, polynomial_order*mesh_steps+1)))\n",
    "list_ord = np.hstack([[ii + jj*mesh_steps for jj in range(polynomial_order)] for ii in range(mesh_steps)])\n",
    "\n",
    "# Convert continuous Galerkin matrix to periodic form:\n",
    "def periodic_matrix(matrix):\n",
    "    matrix[:, 0] += matrix[:, mesh_steps]\n",
    "    matrix[0, :] += matrix[mesh_steps, :]\n",
    "    return matrix[list_col, :][:, list_col]\n",
    "\n",
    "# Define global diffusion bilinear form for continuous Galerkin:\n",
    "@sk.BilinearForm\n",
    "def diffusion_T(u, v, _): return dot(grad(u), grad(v))\n",
    "KK_T = periodic_matrix(diffusion_T.assemble(line_basis))\n",
    "\n",
    "# Define mass bilinear form on the full domain:\n",
    "@sk.BilinearForm \n",
    "def mass_T(u, v, _): return u * v\n",
    "MM_T = periodic_matrix(mass_T.assemble(line_basis))\n",
    "\n",
    "# Define mass bilinear form on the core region:\n",
    "@sk.BilinearForm\n",
    "def mass_H(u, v, w): return reg_H(w.x[0]) * u * v\n",
    "MM_H = periodic_matrix(mass_H.assemble(line_basis))\n",
    "\n",
    "# Define zero matrix:\n",
    "ZZ_T = sparse.csr_matrix(KK_T.shape)"
   ]
  },
  {
   "cell_type": "code",
   "execution_count": 61,
   "id": "ff2fc9e4-07e8-46e7-9008-659bc46064df",
   "metadata": {},
   "outputs": [],
   "source": [
    "# Neutron equation parameters (except cross sections and thermal coupling therms):\n",
    "vel  = ...        #        Speed mono-energetic neutrons\n",
    "beta = 5.4700e-3  # [1]    Delayed neutron fraction                     \n",
    "nu   = 2.4355e+0  # [1]    Neutron yeld                                 \n",
    "lam  = 8.0000e-2  # [s^-1] Decay constant of delayed neutron precursors\n",
    "diff = 1.2100e0   # [cm]   Neutron diffusion coefficient at reference temperature (temp_0)\n",
    "\n",
    "# Termal coupling parameters\n",
    "alpha = 2.1200e-4  # [K^-1] Thermal expansion coefficient \n",
    "temp_0 = 9.2200e2  # [K] Reference temperature \n",
    "\n",
    "# Macroscopic cross sections:\n",
    "sigma_f_0 = 4.4300e-3 / nu # [cm^-1] macroscopic fission cross section at reference temperature (temp_0)\n",
    "sigma_a_0 = 3.7600e-3      # [cm^-1] macroscopic absorption cross section at reference temperature (temp_0)\n",
    "\n",
    "# Define global reaction and diffusion coefficients:\n",
    "k_nn_T =   vel * diff * (1 - alpha * temp_0)                        # Self diffusion coefficient on the whole domain\n",
    "m_nn_T =   vel * sigma_a_0 * (1 + alpha * temp_0)                   # Self reaction coefficient on the whole domain\n",
    "m_nc_T = - vel * lam                                                # Cross reaction coefficient from the precursors on the whole domain\n",
    "m_nn_H = - vel * (1 - beta) * nu * sigma_f_0 * (1 + alpha * temp_0) # Self reaction coefficient on the core region only\n",
    "\n",
    "# Define explicit non-linear terms coefficeints:\n",
    "k_fn_T = - vel * diff * alpha                                      # Coefficient for the temperature neutron diffusion coupling (explicit)\n",
    "m_fn_T =   vel * sigma_a_0 * alpha                                 # Coefficient for the temperature neutron absorption coupling (explicit)\n",
    "m_fn_H = - vel * (1 - beta) * nu * sigma_f_0 * alpha               # Coefficient for the temperature neutron fission coupling (explicit)\n",
    "\n",
    "# Assemble neutron equation left-hand side:\n",
    "LHS_n = sparse.bmat([[k_nn_T*KK_T + m_nn_T*MM_T + m_nn_H*MM_H, m_nc_T*MM_T, ZZ_T]])"
   ]
  },
  {
   "cell_type": "code",
   "execution_count": null,
   "id": "580f3de1-c8af-449c-be3a-3cea2f94f6bb",
   "metadata": {},
   "outputs": [],
   "source": []
  },
  {
   "cell_type": "code",
   "execution_count": null,
   "id": "49f18337-426f-4d64-9efd-e4974874713b",
   "metadata": {},
   "outputs": [],
   "source": []
  },
  {
   "cell_type": "code",
   "execution_count": null,
   "id": "4cca2a35-8081-4ecf-a9dd-7a110ac3f09a",
   "metadata": {},
   "outputs": [],
   "source": []
  }
 ],
 "metadata": {
  "kernelspec": {
   "display_name": "Python [conda env:base] *",
   "language": "python",
   "name": "conda-base-py"
  },
  "language_info": {
   "codemirror_mode": {
    "name": "ipython",
    "version": 3
   },
   "file_extension": ".py",
   "mimetype": "text/x-python",
   "name": "python",
   "nbconvert_exporter": "python",
   "pygments_lexer": "ipython3",
   "version": "3.11.5"
  }
 },
 "nbformat": 4,
 "nbformat_minor": 5
}
