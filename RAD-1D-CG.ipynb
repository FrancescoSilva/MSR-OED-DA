{
 "cells": [
  {
   "cell_type": "markdown",
   "id": "946f8d6f-63b1-48aa-9bf3-848257c1b067",
   "metadata": {},
   "source": [
    "### INITIALIZATION"
   ]
  },
  {
   "cell_type": "code",
   "execution_count": 1,
   "id": "6e19b50a-0a1f-441d-95f0-f588dca0169b",
   "metadata": {},
   "outputs": [],
   "source": [
    "# Import external libraries:\n",
    "import numpy as np\n",
    "import skfem as sk\n",
    "import scipy.sparse as sparse\n",
    "import matplotlib.pyplot as plt\n",
    "\n",
    "# Import external functions:\n",
    "from skfem.helpers import dot, grad\n",
    "from scipy.sparse.linalg import splu\n",
    "from skfem.visuals.matplotlib import plot"
   ]
  },
  {
   "cell_type": "code",
   "execution_count": 80,
   "id": "400e694d-ae9d-4d1c-a1b7-d569f878c1cd",
   "metadata": {},
   "outputs": [],
   "source": [
    "# Define problem size:\n",
    "H = 200 # [cm] core length\n",
    "L = 120 # [cm] heat-exchanger length\n",
    "\n",
    "# Define region identifier:\n",
    "reg_H = lambda x: (x>=0) * (x<H)    # Core region identifier\n",
    "reg_L = lambda x: (x>=H) * (x<H+L)  # Heat-exchanger identifier\n",
    "\n",
    "# Define problem parameters:\n",
    "a_T_temp, a_H_temp, a_L_temp =  0.000, -0.100,  0.100  # Reaction parameters   [1/s]\n",
    "b_T_temp, b_H_temp, b_L_temp =  0.001,  0.000,  0.000  # Diffusion parameters  [cm^2/s]\n",
    "c_T_temp, c_H_temp, c_L_temp =  1.000,  0.000,  0.000  # Advection parameters  [cm/s]\n",
    "\n",
    "# Define time discretization\n",
    "dt = 0.1         # Time step width [s]\n",
    "time_steps = 1000  # Number of time steps [-]\n",
    "theta = 0.50        # Define integration scheme: 0.0 -> implicit, 0.5 -> Crank-Nicolson, 1.0 -> explicit\n",
    "\n",
    "# Define mesh discretization\n",
    "poly_order = 1                                         # Continuous Galerkin polinomial order\n",
    "mesh_steps = 320                                       # Number of spatial mesh intervals [-]\n",
    "mesh_width = (H+L)/mesh_steps                          # Mesh element width [cm]\n",
    "mash_nodes = np.linspace(0, H+L+mesh_width, mesh_steps+2)\n",
    "\n",
    "# Define stabilization parameters:\n",
    "stab = True\n",
    "pecl = c_T_temp * mesh_width / (2 * b_T_temp)\n",
    "supg = stab * (1/np.tanh(pecl) - 1/pecl) * mesh_width / 2"
   ]
  },
  {
   "cell_type": "markdown",
   "id": "2457c5b2-e30e-4cba-b7e1-7da4c45edeb5",
   "metadata": {},
   "source": [
    "### CONTINUOUS GALERKIN"
   ]
  },
  {
   "cell_type": "markdown",
   "id": "d9abc49f-3c66-418c-9664-0c31924c43bd",
   "metadata": {},
   "source": [
    "#### Define problem bilinear forms"
   ]
  },
  {
   "cell_type": "code",
   "execution_count": 84,
   "id": "e8c0bd2d-8cd9-4f5e-b2dd-12c29901f58f",
   "metadata": {},
   "outputs": [],
   "source": [
    "# Define global diffusion bilinear form for continuous Galerkin:\n",
    "@sk.BilinearForm\n",
    "def diffusion_cgi_T(u, v, _): return dot(grad(u), grad(v))\n",
    "\n",
    "# Define advection bilinear form for continuous Galerkin:\n",
    "@sk.BilinearForm\n",
    "def advection_cgi_T(u, v, _): return grad(u)[0] * (v + supg * grad(v)[0])\n",
    "\n",
    "# Define mass bilinear form on the full domain:\n",
    "@sk.BilinearForm \n",
    "def mass_cgi_T(u, v, _): return u * (v + supg * grad(v)[0])\n",
    "\n",
    "# Define mass bilinear form on the core region:\n",
    "@sk.BilinearForm\n",
    "def mass_cgi_H(u, v, w): return reg_H(w.x[0]) * u * (v + supg * grad(v)[0])\n",
    "\n",
    "# Define mass bilinear form on the heat-exchanger region:\n",
    "@sk.BilinearForm\n",
    "def mass_cgi_L(u, v, w): return reg_L(w.x[0]) * u * (v + supg * grad(v)[0])\n",
    "\n",
    "# Define forcing term for the initial condition:\n",
    "@sk.LinearForm\n",
    "def forcing_cgi_T(v, w): return (v + supg * grad(v)[0]) * (w.x[0]<35) * (w.x[0]>= 0) * (w.x[0]/35)   \\\n",
    "                              - (v + supg * grad(v)[0]) * (w.x[0]<70) * (w.x[0]>=35) * (w.x[0]/35 - 2)"
   ]
  },
  {
   "cell_type": "markdown",
   "id": "449c17d0-e2f5-4b48-855f-1cf706f0d6ec",
   "metadata": {},
   "source": [
    "#### Define mathod to convert matrices defined on a simple domain to a periodic domain"
   ]
  },
  {
   "cell_type": "code",
   "execution_count": 87,
   "id": "185d3d83-101e-430b-95f8-a5aeec90475f",
   "metadata": {},
   "outputs": [],
   "source": [
    "# Define list of columns to keep in periodic domain configuration and reordering:\n",
    "list_col = np.array(list(range(mesh_steps)) + list(range(mesh_steps+1, poly_order*mesh_steps+1)))\n",
    "list_ord = np.hstack([[ii + jj*mesh_steps for jj in range(poly_order)] for ii in range(mesh_steps)])\n",
    "\n",
    "# Convert continuous Galerkin matrix to periodic form:\n",
    "def periodic_matrix_cg(matrix):\n",
    "    matrix = sparse.lil_matrix(matrix)\n",
    "    matrix[:, 0] += matrix[:, mesh_steps]\n",
    "    matrix[0, :] += matrix[mesh_steps, :]\n",
    "    return sparse.csc_matrix(matrix[list_col, :][:, list_col])"
   ]
  },
  {
   "cell_type": "markdown",
   "id": "8de5ab61-f32a-44a5-8e03-01f05f9eef1c",
   "metadata": {},
   "source": [
    "#### Assemble all the matrices and the vectors needed for the solution of a RAD problem:"
   ]
  },
  {
   "cell_type": "code",
   "execution_count": 90,
   "id": "58822368-d65c-4c41-bce7-12b4bb0dc98e",
   "metadata": {},
   "outputs": [],
   "source": [
    "# Define continuous Galerkin basis:\n",
    "line_mesh_periodic_cg = sk.MeshLine(mash_nodes[:-1])\n",
    "if poly_order==1 : line_element_cg = sk.element.ElementLineP1()\n",
    "if poly_order==2 : line_element_cg = sk.element.ElementLineP2()\n",
    "line_basis_cg = sk.Basis(line_mesh_periodic_cg, line_element_cg)\n",
    "\n",
    "# Assemble reaction term matrices:\n",
    "MM_T_1D_cg = periodic_matrix_cg(mass_cgi_T.assemble(line_basis_cg))\n",
    "MM_H_1D_cg = periodic_matrix_cg(mass_cgi_H.assemble(line_basis_cg))\n",
    "MM_L_1D_cg = periodic_matrix_cg(mass_cgi_L.assemble(line_basis_cg))\n",
    "\n",
    "# Define advection and diffusion matrices:\n",
    "KK_T_1D_cg = periodic_matrix_cg(diffusion_cgi_T.assemble(line_basis_cg))\n",
    "CC_T_1D_cg = periodic_matrix_cg(advection_cgi_T.assemble(line_basis_cg))\n",
    "\n",
    "# Define left and right hand side of the continuous Galerkin problem:\n",
    "SS_all_cg = a_H_temp * MM_H_1D_cg + a_L_temp * MM_L_1D_cg + b_T_temp * KK_T_1D_cg + c_T_temp * CC_T_1D_cg\n",
    "AA_all_cg = MM_T_1D_cg +      theta  * SS_all_cg * dt\n",
    "BB_all_cg = MM_T_1D_cg - (1 - theta) * SS_all_cg * dt\n",
    "\n",
    "# Define initial conditions:\n",
    "f_cg = forcing_cgi_T.assemble(line_basis_cg)[list_col]\n",
    "z_cg = sk.solve(KK_T_1D_cg + 0.001 * MM_T_1D_cg, f_cg)"
   ]
  },
  {
   "cell_type": "markdown",
   "id": "25219e72-1d53-4bf6-bff6-20dc84fb351c",
   "metadata": {},
   "source": [
    "#### Solve problem in time"
   ]
  },
  {
   "cell_type": "code",
   "execution_count": 93,
   "id": "b2298cfe-7c2b-40a3-9bfb-7422a646b323",
   "metadata": {},
   "outputs": [
    {
     "data": {
      "image/png": "[encoded data removed]",
      "text/plain": [
       "<Figure size 640x480 with 1 Axes>"
      ]
     },
     "metadata": {},
     "output_type": "display_data"
    }
   ],
   "source": [
    "# Initialise solution nd-array:\n",
    "solution_cg = np.ones((AA_all_cg.shape[0], time_steps+1))\n",
    "solution_cg[:, 0] = z_cg\n",
    "\n",
    "# Iteratively solve problem:\n",
    "backsolve_cg = splu(AA_all_cg).solve\n",
    "for ii in range(time_steps):\n",
    "    solution_cg[:, ii+1] = backsolve_cg(BB_all_cg @ solution_cg[:, ii])\n",
    "\n",
    "# Plot the solution at the initial and at the finial time:\n",
    "tt = -1\n",
    "plt.plot(solution_cg[list_ord,  0] / max(solution_cg[:,  0]))\n",
    "plt.plot(solution_cg[list_ord, tt] / max(solution_cg[:, tt]))\n",
    "plt.show()"
   ]
  },
  {
   "cell_type": "code",
   "execution_count": null,
   "id": "ec74e4f0-b141-43d2-bd29-92462f15f3d5",
   "metadata": {},
   "outputs": [],
   "source": []
  },
  {
   "cell_type": "markdown",
   "id": "bfada0e5-8762-4023-a018-b9251a2a7bc2",
   "metadata": {},
   "source": [
    "#### I leave here a possible approach to implement online asseblage of linearised terms for nonlinear problems"
   ]
  },
  {
   "cell_type": "code",
   "execution_count": 75,
   "id": "0c3fec2d-52c4-432d-97ac-58bbd74abcdb",
   "metadata": {},
   "outputs": [],
   "source": [
    "# Convert periodic vector into non-periodic original domain:\n",
    "def vector_xx(vector): return np.hstack((vector[:mesh_steps], vector[0], vector[mesh_steps:]))\n",
    "\n",
    "# Define non-linear interaction term for the reaction term:\n",
    "def get_nl_mass_cgi_T(field):\n",
    "    @sk.BilinearForm\n",
    "    def nl_mass_cgi_T(u, v, _): return u * v * line_basis_cg.interpolate(vector_xx(field))\n",
    "    return periodic_matrix_cg(nl_mass_cgi_T.assemble(line_basis_cg))\n",
    "\n",
    "# Define non-linear interaction term for the diffusion term:\n",
    "def get_nl_diffusion_cgi_T(field):  \n",
    "    @sk.BilinearForm\n",
    "    def nl_mass_cgi_T(u, v, _): return dot(grad(u), grad(v)) * line_basis_cg.interpolate(vector_xx(field))\n",
    "    return periodic_matrix_cg(nl_mass_cgi_T.assemble(line_basis_cg))"
   ]
  },
  {
   "cell_type": "code",
   "execution_count": null,
   "id": "60671e20-464e-4247-ad74-13b83469e6b4",
   "metadata": {},
   "outputs": [],
   "source": []
  },
  {
   "cell_type": "code",
   "execution_count": null,
   "id": "d1b17bf1-9dbb-4072-8856-c01710d4ca0d",
   "metadata": {},
   "outputs": [],
   "source": []
  }
 ],
 "metadata": {
  "kernelspec": {
   "display_name": "Python [conda env:base] *",
   "language": "python",
   "name": "conda-base-py"
  },
  "language_info": {
   "codemirror_mode": {
    "name": "ipython",
    "version": 3
   },
   "file_extension": ".py",
   "mimetype": "text/x-python",
   "name": "python",
   "nbconvert_exporter": "python",
   "pygments_lexer": "ipython3",
   "version": "3.11.5"
  }
 },
 "nbformat": 4,
 "nbformat_minor": 5
}
